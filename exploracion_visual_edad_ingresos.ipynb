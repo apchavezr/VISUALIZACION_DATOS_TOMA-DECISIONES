{
  "nbformat": 4,
  "nbformat_minor": 5,
  "metadata": {
    "colab": {
      "provenance": [],
      "include_colab_link": true
    }
  },
  "cells": [
    {
      "cell_type": "markdown",
      "metadata": {
        "id": "view-in-github",
        "colab_type": "text"
      },
      "source": [
        "<a href=\"https://colab.research.google.com/github/apchavezr/VISUALIZACION_DATOS_TOMA-DECISIONES/blob/main/exploracion_visual_edad_ingresos.ipynb\" target=\"_parent\"><img src=\"https://colab.research.google.com/assets/colab-badge.svg\" alt=\"Open In Colab\"/></a>"
      ]
    },
    {
      "id": "93fc5d00",
      "cell_type": "markdown",
      "source": [
        "# Exploración visual: Edad vs Ingresos mensuales\n",
        "\n",
        "Este ejemplo muestra cómo construir un gráfico de dispersión en Python para investigar la posible relación entre dos variables continuas: **edad** e **ingresos mensuales**.\n",
        "Se utilizan las bibliotecas `matplotlib` y `seaborn` para visualizar patrones, agrupamientos y posibles valores atípicos.\n",
        "\n"
      ],
      "metadata": {
        "id": "93fc5d00"
      }
    },
    {
      "id": "9567786d",
      "cell_type": "code",
      "metadata": {
        "id": "9567786d"
      },
      "execution_count": null,
      "source": [
        "\n",
        "import numpy as np\n",
        "import pandas as pd\n",
        "import matplotlib.pyplot as plt\n",
        "import seaborn as sns\n",
        "\n",
        "# Simular un conjunto de datos con dos variables continuas\n",
        "np.random.seed(123)\n",
        "n = 150\n",
        "edad = np.random.normal(40, 12, n).clip(18, 70)  # Edad entre 18 y 70\n",
        "ingresos = 1000 + edad * 55 + np.random.normal(0, 1000, n)  # Ingresos dependientes de edad con ruido\n",
        "\n",
        "# Crear DataFrame\n",
        "df = pd.DataFrame({\n",
        "    'Edad': edad,\n",
        "    'Ingresos mensuales': ingresos\n",
        "})\n",
        "\n",
        "# Visualización con análisis exploratorio\n",
        "plt.figure(figsize=(10, 6))\n",
        "sns.scatterplot(data=df, x='Edad', y='Ingresos mensuales', s=70, alpha=0.7, color='darkgreen')\n",
        "\n",
        "# Añadir línea de tendencia\n",
        "sns.regplot(data=df, x='Edad', y='Ingresos mensuales', scatter=False, color='red', label='Tendencia lineal')\n",
        "\n",
        "# Personalización del gráfico\n",
        "plt.title('Exploración visual: Edad vs Ingresos mensuales')\n",
        "plt.xlabel('Edad (años)')\n",
        "plt.ylabel('Ingresos mensuales (COP)')\n",
        "plt.legend()\n",
        "plt.grid(True)\n",
        "plt.tight_layout()\n",
        "plt.show()\n"
      ],
      "outputs": []
    },
    {
      "id": "9f8ef608",
      "cell_type": "markdown",
      "source": [
        "## Reflexión\n",
        "✅ **¿Qué tan dispersos están los puntos alrededor de la línea de tendencia?**\n",
        ">La dispersión de los puntos es moderada. Aunque la mayoría de las observaciones siguen la dirección general de la línea de tendencia, existe una variabilidad considerable alrededor de la misma. Esto indica que, si bien hay una relación lineal, también hay otros factores (representados aquí como ruido aleatorio) que afectan los ingresos, haciendo que la correlación no sea perfecta.\n",
        "\n",
        "✅ **¿Se observan agrupamientos o segmentos dentro del conjunto de datos?**\n",
        ">Sí, se pueden identificar agrupamientos visuales. Hay una concentración de puntos en el rango de edad entre 30 y 50 años, lo cual puede sugerir la existencia de una subpoblación o grupo etario económicamente más activo. Esto refleja comportamientos frecuentes en muchos contextos reales, donde la población laboralmente activa suele estar en esos rangos y, por tanto, muestra mayor variación y concentración en ingresos.\n",
        "\n",
        "✅ **¿Hay algún valor atípico que se aleje del patrón general?**\n",
        ">Sí, se pueden detectar algunos valores atípicos. Por ejemplo, hay observaciones que muestran ingresos considerablemente más altos o más bajos que lo esperado para una edad determinada. Estos puntos, que se encuentran alejados de la línea de tendencia y de las zonas más densamente pobladas del gráfico, pueden representar casos inusuales, errores de captura o condiciones particulares que justifican una revisión detallada."
      ],
      "metadata": {
        "id": "9f8ef608"
      }
    },
    {
      "cell_type": "markdown",
      "source": [
        "# Conclusión\n",
        "Este tipo de análisis visual con gráficos de dispersión permite una comprensión intuitiva y preliminar de las relaciones entre variables. Es especialmente útil antes de aplicar métodos estadísticos o algoritmos de machine learning, ya que ayuda a detectar estructuras ocultas, problemas de calidad de los datos y posibles segmentaciones relevantes."
      ],
      "metadata": {
        "id": "PGCdMhfePSZH"
      },
      "id": "PGCdMhfePSZH"
    }
  ]
}